{
  "nbformat": 4,
  "nbformat_minor": 0,
  "metadata": {
    "colab": {
      "name": "polbooks_test.ipynb",
      "provenance": []
    },
    "kernelspec": {
      "name": "python3",
      "display_name": "Python 3"
    },
    "language_info": {
      "name": "python"
    }
  },
  "cells": [
    {
      "cell_type": "code",
      "metadata": {
        "colab": {
          "base_uri": "https://localhost:8080/"
        },
        "id": "yLFoUwOqrHz9",
        "outputId": "1d6db9ae-625a-46b6-dd9c-0aec0606e433"
      },
      "source": [
        "pip install networkx"
      ],
      "execution_count": 1,
      "outputs": [
        {
          "output_type": "stream",
          "text": [
            "Requirement already satisfied: networkx in /usr/local/lib/python3.7/dist-packages (2.5.1)\n",
            "Requirement already satisfied: decorator<5,>=4.3 in /usr/local/lib/python3.7/dist-packages (from networkx) (4.4.2)\n"
          ],
          "name": "stdout"
        }
      ]
    },
    {
      "cell_type": "code",
      "metadata": {
        "id": "Iifuj4Xh2vxT"
      },
      "source": [
        "import numpy as np\n",
        "from numpy.linalg import matrix_power\n",
        "import math as m\n",
        "import networkx as nx\n",
        "from numpy.linalg import matrix_power\n",
        "import random\n",
        "import pandas as pd\n"
      ],
      "execution_count": 2,
      "outputs": []
    },
    {
      "cell_type": "code",
      "metadata": {
        "id": "XXvbkGdX5zep"
      },
      "source": [
        "def RobustGC(W, y_train_prime, eta):\n",
        "  D = np.zeros ((len(W),len(W)))\n",
        "  for i in range (len(W)):\n",
        "    D[i][i]= np.sum(W[i] , axis=0)\n",
        "\n",
        "  D_inv = np.sqrt(matrix_power(D,-1))\n",
        "  S = D_inv @ W @ D_inv\n",
        "  LN = np.eye(len(S)) - S\n",
        "  V0 = np.zeros(len(D))\n",
        "\n",
        "  for i in range (len (D)):\n",
        "    V0[i]= np.sqrt(D[i][i])\n",
        "\n",
        "  V0_norm = np.linalg.norm(V0, 2)\n",
        "  V0= V0/V0_norm\n",
        "  v=np.linalg.eigvals(LN)\n",
        "  v=sorted(v)\n",
        "  lambda_1 = v[1]\n",
        "  gamma_t= eta*lambda_1\n",
        "  # print(gamma_t)\n",
        "  \n",
        "  f = np.linalg.inv((LN/gamma_t)-np.eye(len(LN)))@(y_train_prime - (np.dot(V0,np.dot(V0.transpose(), y_train_prime))))\n",
        "  pred= np.sign(f)\n",
        "  pred = np.squeeze(np.asarray(pred))\n",
        "  # print (pred)\n",
        "\n",
        "  return pred, gamma_t"
      ],
      "execution_count": 3,
      "outputs": []
    },
    {
      "cell_type": "code",
      "metadata": {
        "id": "VxQm5M8hSNC5"
      },
      "source": [
        "def PF_RobustGC(W, y_train_prime):\n",
        "  D = np.zeros ((len(W),len(W)))\n",
        "  for i in range (len(W)):\n",
        "    D[i][i]= np.sum(W[i] , axis=0)\n",
        "\n",
        "  D_inv = np.sqrt(matrix_power(D,-1))\n",
        "  S = D_inv @ W @ D_inv\n",
        "  LN = np.eye(len(S)) - S\n",
        "  V0 = np.zeros(len(D))\n",
        "\n",
        "  for i in range (len (D)):\n",
        "    V0[i]= np.sqrt(D[i][i])\n",
        "\n",
        "  V0_norm = np.linalg.norm(V0, 2)\n",
        "  V0= V0/V0_norm\n",
        "  v=np.linalg.eigvals(LN)\n",
        "  v=sorted(v)\n",
        "  lambda_1 = v[1]\n",
        "  gamma_t= 0.9*lambda_1\n",
        "  # print(gamma_t)\n",
        "  \n",
        "  f = np.linalg.inv((LN/gamma_t)-np.eye(len(LN)))@(y_train_prime - (np.dot(V0,np.dot(V0.transpose(), y_train_prime))))\n",
        "  pred= np.sign(f)\n",
        "  pred = np.squeeze(np.asarray(pred))\n",
        "  # print (pred)\n",
        "\n",
        "  return pred, gamma_t"
      ],
      "execution_count": 4,
      "outputs": []
    },
    {
      "cell_type": "code",
      "metadata": {
        "id": "El5brn-QUc17"
      },
      "source": [
        "def accuracy (y_pred , y_orig):\n",
        "  count=0\n",
        "  for i in range (len(y_pred)):\n",
        "    if y_pred[i]==y_orig[i]:\n",
        "      count+=1\n",
        "  result = count/len(y_pred) * 100\n",
        "  return result"
      ],
      "execution_count": 5,
      "outputs": []
    },
    {
      "cell_type": "code",
      "metadata": {
        "colab": {
          "base_uri": "https://localhost:8080/"
        },
        "id": "gn6FbkwKXCpN",
        "outputId": "a33a4873-6708-4e06-afb2-5ea0e5e47c4a"
      },
      "source": [
        "data = nx.read_gml('/content/polbooks.gml', label='id')\n",
        "# data.nodes\n",
        "data.remove_nodes_from([0, 4, 6, 7, 18, 28, 46, 48, 51, 69, 76, 103, 104])\n",
        "data = nx.relabel.convert_node_labels_to_integers(data, first_label=0, ordering='default')\n",
        "W = nx.adjacency_matrix(data)\n",
        "df = pd.read_csv('/content/Poll_Books_polbooks_resource-level.csv')\n",
        "df = df[df.Label != 0]\n",
        "df = df.reset_index(drop=True)\n",
        "y_train = df.pop('Label')\n",
        "y_train = y_train.to_numpy()\n",
        "\n",
        "from scipy.sparse import csr_matrix\n",
        "\n",
        "W = W.toarray()\n",
        "\n",
        "acc = np.zeros (20)\n",
        "for i in range (20):\n",
        "  y_train_prime = y_train.copy()\n",
        "  ra = random.sample(range(0, 92), 90)\n",
        "  for j in ra:\n",
        "    y_train_prime[j]=0\n",
        "  pred , gamma_t = RobustGC (W, y_train_prime , 0.1)\n",
        "  acc[i] = accuracy (pred , y_train)\n",
        "print (np.mean(acc))"
      ],
      "execution_count": 6,
      "outputs": [
        {
          "output_type": "stream",
          "text": [
            "97.93478260869566\n"
          ],
          "name": "stdout"
        }
      ]
    },
    {
      "cell_type": "code",
      "metadata": {
        "colab": {
          "base_uri": "https://localhost:8080/"
        },
        "id": "rhAY3leSZdvK",
        "outputId": "ed179c58-e7aa-4568-f5cc-ce06b11bb7a2"
      },
      "source": [
        "data = nx.read_gml('/content/polbooks.gml', label='id')\n",
        "# data.nodes\n",
        "data.remove_nodes_from([0, 4, 6, 7, 18, 28, 46, 48, 51, 69, 76, 103, 104])\n",
        "data = nx.relabel.convert_node_labels_to_integers(data, first_label=0, ordering='default')\n",
        "W = nx.adjacency_matrix(data)\n",
        "df = pd.read_csv('/content/Poll_Books_polbooks_resource-level.csv')\n",
        "df = df[df.Label != 0]\n",
        "df = df.reset_index(drop=True)\n",
        "y_train = df.pop('Label')\n",
        "y_train = y_train.to_numpy()\n",
        "\n",
        "from scipy.sparse import csr_matrix\n",
        "\n",
        "W = W.toarray()\n",
        "\n",
        "acc = np.zeros (20)\n",
        "for i in range (20):\n",
        "  y_train_prime = y_train.copy()\n",
        "  ra = random.sample(range(0, 92), 90)\n",
        "  for j in ra:\n",
        "    y_train_prime[j]=0\n",
        "  pred , gamma_t = PF_RobustGC (W, y_train_prime)\n",
        "  acc[i] = accuracy (pred , y_train)\n",
        "print (np.mean(acc))"
      ],
      "execution_count": 7,
      "outputs": [
        {
          "output_type": "stream",
          "text": [
            "97.82608695652173\n"
          ],
          "name": "stdout"
        }
      ]
    }
  ]
}