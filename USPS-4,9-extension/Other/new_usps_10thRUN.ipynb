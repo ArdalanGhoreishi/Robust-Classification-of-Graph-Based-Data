{
  "nbformat": 4,
  "nbformat_minor": 0,
  "metadata": {
    "colab": {
      "name": "new_usps_10thRUN.ipynb",
      "provenance": [],
      "collapsed_sections": []
    },
    "kernelspec": {
      "name": "python3",
      "display_name": "Python 3"
    },
    "language_info": {
      "name": "python"
    }
  },
  "cells": [
    {
      "cell_type": "code",
      "metadata": {
        "id": "J954g5o3zeyp"
      },
      "source": [
        "!pip install extra_keras_datasets -q"
      ],
      "execution_count": 1,
      "outputs": []
    },
    {
      "cell_type": "code",
      "metadata": {
        "id": "nFoFf2NQ06Ia"
      },
      "source": [
        "from matplotlib import pyplot as plt\n",
        "import numpy as np\n",
        "from numpy.linalg import matrix_power\n",
        "import random\n",
        "import math as m\n",
        "import scipy\n",
        "\n",
        "from sklearn.metrics.pairwise import rbf_kernel\n",
        "from extra_keras_datasets import usps\n",
        "from sklearn.utils import shuffle\n",
        "from sklearn.metrics import accuracy_score"
      ],
      "execution_count": 2,
      "outputs": []
    },
    {
      "cell_type": "code",
      "metadata": {
        "colab": {
          "base_uri": "https://localhost:8080/"
        },
        "id": "cYL6LnQMzkFv",
        "outputId": "1b8b4c9e-9d97-496a-bdf1-6e61fb86fa48"
      },
      "source": [
        "(X_train, y_train), (X_test,y_test) = usps.load_data()\n",
        "X_train, y_train = shuffle(X_train, y_train)\n",
        "filter_nine = np.where(y_train == 9)\n",
        "filter_four = np.where(y_train == 4)\n",
        "X_train_9 = X_train[filter_nine]\n",
        "X_train_4 = X_train[filter_four]"
      ],
      "execution_count": 3,
      "outputs": [
        {
          "output_type": "stream",
          "text": [
            "INFO:root:Loading dataset = usps\n",
            "WARNING:root:Please cite the following paper when using or referencing this Extra Keras Dataset:\n",
            "WARNING:root:Hull, J. J. (1994). A database for handwritten text recognition research. IEEE Transactions on pattern analysis and machine intelligence, 16(5), 550-554.\n"
          ],
          "name": "stderr"
        }
      ]
    },
    {
      "cell_type": "code",
      "metadata": {
        "colab": {
          "base_uri": "https://localhost:8080/"
        },
        "id": "Kunfx8VXOE4G",
        "outputId": "25aa295b-0fae-445c-9b48-2669bbe43da7"
      },
      "source": [
        "X_train_4_500 = X_train_4[0:500]\n",
        "X_train_9_500 = X_train_9[0:500]\n",
        "\n",
        "y_train_4_500 = [-1]*500\n",
        "y_train_9_500 = [1]*500\n",
        "\n",
        "X_train_data = np.append(X_train_4_500, X_train_9_500, axis=0)\n",
        "X_train_data = X_train_data.reshape(-1, 16*16)\n",
        "y_train_data = y_train_4_500 + y_train_9_500\n",
        "y_train_data = np.array(y_train_data)\n",
        "\n",
        "X_train_data.shape, y_train_data.shape\n",
        "\n",
        "temp = np.zeros((X_train_data.shape[0], X_train_data.shape[1]+1))\n",
        "temp[:,:-1] = X_train_data\n",
        "temp[:,-1] = y_train_data\n",
        "temp.shape"
      ],
      "execution_count": 4,
      "outputs": [
        {
          "output_type": "execute_result",
          "data": {
            "text/plain": [
              "(1000, 257)"
            ]
          },
          "metadata": {
            "tags": []
          },
          "execution_count": 4
        }
      ]
    },
    {
      "cell_type": "code",
      "metadata": {
        "id": "1Rg0xiPfPcIt"
      },
      "source": [
        "W_all = rbf_kernel(X_train_data, )"
      ],
      "execution_count": 5,
      "outputs": []
    },
    {
      "cell_type": "code",
      "metadata": {
        "id": "JORDVTpr9ZZT"
      },
      "source": [
        "# print(X_train_9.shape)\n",
        "# num = random.randint(0, 644)\n",
        "# plt.imshow(X_train_9[num])"
      ],
      "execution_count": 6,
      "outputs": []
    },
    {
      "cell_type": "code",
      "metadata": {
        "id": "2WurVx1g_U5u"
      },
      "source": [
        "# print(X_train_4.shape)\n",
        "# num = random.randint(0, 654)\n",
        "# plt.imshow(X_train_4[num])"
      ],
      "execution_count": 7,
      "outputs": []
    },
    {
      "cell_type": "code",
      "metadata": {
        "colab": {
          "base_uri": "https://localhost:8080/"
        },
        "id": "8GpSx7LM-vno",
        "outputId": "063f991c-9d53-4206-bc4c-7e7c73ae76d6"
      },
      "source": [
        "X_train_9_5 = X_train_9[0:5]\n",
        "X_train_4_5 = X_train_4[0:5]\n",
        "X_train_4_5.shape"
      ],
      "execution_count": 8,
      "outputs": [
        {
          "output_type": "execute_result",
          "data": {
            "text/plain": [
              "(5, 16, 16)"
            ]
          },
          "metadata": {
            "tags": []
          },
          "execution_count": 8
        }
      ]
    },
    {
      "cell_type": "code",
      "metadata": {
        "colab": {
          "base_uri": "https://localhost:8080/"
        },
        "id": "Wu-RF686Mdd_",
        "outputId": "8b275cac-7c57-4824-833f-5ec346661519"
      },
      "source": [
        "y_train = [1,1,1,1,1,-1,-1,-1,-1,-1]\n",
        "len(y_train)"
      ],
      "execution_count": 9,
      "outputs": [
        {
          "output_type": "execute_result",
          "data": {
            "text/plain": [
              "10"
            ]
          },
          "metadata": {
            "tags": []
          },
          "execution_count": 9
        }
      ]
    },
    {
      "cell_type": "code",
      "metadata": {
        "colab": {
          "base_uri": "https://localhost:8080/"
        },
        "id": "aKIdC8DsF8pu",
        "outputId": "fd555a4e-fc11-463f-c7e7-ccd16c93d8a6"
      },
      "source": [
        "data_labeled = np.append(X_train_4_5, X_train_9_5, axis=0)\n",
        "data_labeled.shape"
      ],
      "execution_count": 10,
      "outputs": [
        {
          "output_type": "execute_result",
          "data": {
            "text/plain": [
              "(10, 16, 16)"
            ]
          },
          "metadata": {
            "tags": []
          },
          "execution_count": 10
        }
      ]
    },
    {
      "cell_type": "code",
      "metadata": {
        "id": "PUABckEPKz4n"
      },
      "source": [
        "# num = random.randint(0, 250)\n",
        "# print(num)\n",
        "# plt.imshow(X_train[num])\n",
        "# print(y_train[num])"
      ],
      "execution_count": 11,
      "outputs": []
    },
    {
      "cell_type": "code",
      "metadata": {
        "id": "bM4agcXjcxi9"
      },
      "source": [
        ""
      ],
      "execution_count": 11,
      "outputs": []
    },
    {
      "cell_type": "code",
      "metadata": {
        "id": "EGYkStwpSEI3"
      },
      "source": [
        "def GaussianKernel(v1, v2, sigma):\n",
        "    return scipy.exp(-np.linalg.norm(v1-v2, 2)**2/(2.*sigma**2))"
      ],
      "execution_count": 12,
      "outputs": []
    },
    {
      "cell_type": "code",
      "metadata": {
        "id": "alY7_udoS5LZ"
      },
      "source": [
        "sigma = 5\n",
        "gamma_ = 1 / (2*(sigma**2))\n",
        "# gamma_ = 0.47"
      ],
      "execution_count": 13,
      "outputs": []
    },
    {
      "cell_type": "code",
      "metadata": {
        "id": "u0yiN-yGSTjM"
      },
      "source": [
        "def RobustGC(W, y_train_prime):\n",
        "  eta = 0.9\n",
        "  D = np.zeros ((len(W),len(W)))\n",
        "  for i in range (len(W)):\n",
        "    D[i][i]= np.sum(W[i] , axis=0)\n",
        "\n",
        "  D_inv = np.sqrt(matrix_power(D,-1))\n",
        "  S = D_inv @ W @ D_inv\n",
        "  LN = np.eye(len(S)) - S\n",
        "  V0 = np.zeros(len(D))\n",
        "\n",
        "  for i in range (len (D)):\n",
        "    V0[i]= np.sqrt(D[i][i])\n",
        "\n",
        "  V0_norm = np.linalg.norm(V0, 2)\n",
        "  V0= V0/V0_norm\n",
        "  v=np.linalg.eigvals(LN)\n",
        "  v=sorted(v)\n",
        "  lambda_1 = v[1]\n",
        "  gamma_t= eta*lambda_1\n",
        "  # print(gamma_t)\n",
        "  \n",
        "  f = np.linalg.inv((LN/gamma_t)-np.eye(len(LN)))@(y_train_prime - (np.dot(V0,np.dot(V0.transpose(), y_train_prime))))\n",
        "  pred= np.sign(f)\n",
        "  pred = np.squeeze(np.asarray(pred))\n",
        "  # print (pred)\n",
        "\n",
        "  return f, gamma_t"
      ],
      "execution_count": 14,
      "outputs": []
    },
    {
      "cell_type": "code",
      "metadata": {
        "id": "V9qNs-CPdZOJ"
      },
      "source": [
        "D_i_all = np.zeros(1000)"
      ],
      "execution_count": 15,
      "outputs": []
    },
    {
      "cell_type": "code",
      "metadata": {
        "id": "0Ipydmx33F4k"
      },
      "source": [
        "def kernel_calc(X_train_data, X_train):\n",
        "  res = rbf_kernel(X_train_data, X_train ,gamma=gamma_)\n",
        "  # res = rbf_kernel(X_train_data, X_train ,gamma=0.47)\n",
        "  \n",
        "  res_dic = {}\n",
        "  for i in range(res.shape[0]):\n",
        "    for j in range(res.shape[1]):\n",
        "      res_dic[(i,j)] = res[i,j]\n",
        "  \n",
        "  return res_dic"
      ],
      "execution_count": 16,
      "outputs": []
    },
    {
      "cell_type": "code",
      "metadata": {
        "id": "147ZwXEZIxVA"
      },
      "source": [
        "# d_i_all = np.zeros(1000)\n",
        "\n",
        "def d_x (num, kernel_val):\n",
        "  result=0\n",
        "  for i in range (len(X_train)):\n",
        "    # result +=  kernel_val[num , i]\n",
        "    result += kernel_val[(num, i)]\n",
        "  return result\n",
        "\n",
        "def predx (x, num, kernel_val, prev):\n",
        "  # sigma = 5\n",
        "  # for i in range (prev , len(X_train)):\n",
        "  #   d_i_all[num] += kernel_val[num , i]\n",
        "\n",
        "  seg_1= 1/(1-gamma_t-(1/d_x(num, kernel_val)))\n",
        "  seg_2= 0\n",
        "  temp1 = d_x(num, kernel_val)\n",
        "\n",
        "  all_di_temp = rbf_kernel(X_train, X_train ,gamma=gamma_)\n",
        "  all_di = np.sum(all_di_temp, axis=1)\n",
        "\n",
        "  for i in range (len(X_train)):\n",
        "    seg_2 += (kernel_val[num,i]/np.sqrt(temp1*all_di[i])) * pred[i] \n",
        "  result = seg_1 * seg_2\n",
        "  # return result\n",
        "\n",
        "  return np.sign(result)\n",
        "  \n",
        "# def predx (x, num, kernel_val):\n",
        "#   return np.sign(f_x(x, num, kernel_val))"
      ],
      "execution_count": 17,
      "outputs": []
    },
    {
      "cell_type": "code",
      "metadata": {
        "id": "-3sgPG01NPA-"
      },
      "source": [
        "prev = 0"
      ],
      "execution_count": 18,
      "outputs": []
    },
    {
      "cell_type": "code",
      "metadata": {
        "colab": {
          "base_uri": "https://localhost:8080/"
        },
        "id": "RY6oCfKaOM9r",
        "outputId": "3b82ca34-eefa-4e1a-dacb-7d307362917c"
      },
      "source": [
        "for data_num in range(20, 1001, 50):\n",
        "  y_prime = []\n",
        "  temp = data_num - 10\n",
        "  # data = np.array([])\n",
        "  data_9 = X_train_9[5: int(temp/2)+5]\n",
        "  data_4 = X_train_4[5: int(temp/2)+5]\n",
        "  data = np.concatenate([data_labeled, data_4, data_9], axis=0)\n",
        "  \n",
        "  y_data = y_train + [0]*temp\n",
        "  \n",
        "  X_train, y_data = shuffle(data, y_data)\n",
        "  X_train = X_train.reshape(-1, 16*16)\n",
        "\n",
        "  W = rbf_kernel(X_train, gamma=gamma_)\n",
        "  pred, gamma_t = RobustGC(W, y_data)\n",
        "  # pred = - pred\n",
        "  \n",
        "  kernel_val = kernel_calc(X_train_data, X_train)\n",
        "  # print(kernel_val[0,0])\n",
        "  \n",
        "  for num, d in enumerate(X_train_data):\n",
        "    t = -predx(d, num, kernel_val, prev)\n",
        "    y_prime.append(t)\n",
        "  prev = len(X_train)\n",
        "\n",
        "\n",
        "  acc = accuracy_score(y_train_data, y_prime, normalize=True)\n",
        "  print('accuracy= ', acc)\n",
        "  # # print(\"|\", end='')"
      ],
      "execution_count": 19,
      "outputs": [
        {
          "output_type": "stream",
          "text": [
            "accuracy=  0.584\n",
            "accuracy=  0.701\n",
            "accuracy=  0.727\n",
            "accuracy=  0.737\n",
            "accuracy=  0.722\n",
            "accuracy=  0.716\n",
            "accuracy=  0.733\n",
            "accuracy=  0.725\n",
            "accuracy=  0.718\n",
            "accuracy=  0.719\n",
            "accuracy=  0.721\n",
            "accuracy=  0.723\n",
            "accuracy=  0.722\n",
            "accuracy=  0.723\n",
            "accuracy=  0.725\n",
            "accuracy=  0.715\n",
            "accuracy=  0.715\n",
            "accuracy=  0.72\n",
            "accuracy=  0.712\n",
            "accuracy=  0.714\n"
          ],
          "name": "stdout"
        }
      ]
    }
  ]
}