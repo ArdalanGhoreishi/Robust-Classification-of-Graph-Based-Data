{
  "cells": [
    {
      "cell_type": "code",
      "execution_count": 1,
      "metadata": {
        "colab": {
          "base_uri": "https://localhost:8080/"
        },
        "id": "yLFoUwOqrHz9",
        "outputId": "03b629fb-0b29-447a-b710-90de6796d623"
      },
      "outputs": [
        {
          "name": "stdout",
          "output_type": "stream",
          "text": [
            "Requirement already satisfied: networkx in /usr/local/lib/python3.7/dist-packages (2.5.1)\n",
            "Requirement already satisfied: decorator<5,>=4.3 in /usr/local/lib/python3.7/dist-packages (from networkx) (4.4.2)\n"
          ]
        }
      ],
      "source": [
        "pip install networkx"
      ]
    },
    {
      "cell_type": "code",
      "execution_count": 2,
      "metadata": {
        "id": "Iifuj4Xh2vxT"
      },
      "outputs": [],
      "source": [
        "import numpy as np\n",
        "from numpy.linalg import matrix_power\n",
        "import math as m\n",
        "import networkx as nx\n",
        "from numpy.linalg import matrix_power\n",
        "import random"
      ]
    },
    {
      "cell_type": "code",
      "execution_count": 3,
      "metadata": {
        "id": "XXvbkGdX5zep"
      },
      "outputs": [],
      "source": [
        "def RobustGC(W, y_train_prime, eta):\n",
        "  D = np.zeros ((len(W),len(W)))\n",
        "  for i in range (len(W)):\n",
        "    D[i][i]= np.sum(W[i] , axis=1)\n",
        "\n",
        "  D_inv = np.sqrt(matrix_power(D,-1))\n",
        "  S = D_inv @ W @ D_inv\n",
        "  LN = np.eye(len(S)) - S\n",
        "  V0 = np.zeros(len(D))\n",
        "\n",
        "  for i in range (len (D)):\n",
        "    V0[i]= np.sqrt(D[i][i])\n",
        "\n",
        "  V0_norm = np.linalg.norm(V0, 2)\n",
        "  V0= V0/V0_norm\n",
        "  v=np.linalg.eigvals(LN)\n",
        "  v=sorted(v)\n",
        "  lambda_1 = v[1]\n",
        "  gamma_t= eta*lambda_1\n",
        "  # print(gamma_t)\n",
        "  \n",
        "  f = np.linalg.inv((LN/gamma_t)-np.eye(len(LN)))@(y_train_prime - (np.dot(V0,np.dot(V0.transpose(), y_train_prime))))\n",
        "  pred= np.sign(f)\n",
        "  pred = np.squeeze(np.asarray(pred))\n",
        "  # print (pred)\n",
        "\n",
        "  return pred, gamma_t"
      ]
    },
    {
      "cell_type": "code",
      "execution_count": 4,
      "metadata": {
        "id": "VxQm5M8hSNC5"
      },
      "outputs": [],
      "source": [
        "def PF_RobustGC(W, y_train_prime):\n",
        "  D = np.zeros ((len(W),len(W)))\n",
        "  for i in range (len(W)):\n",
        "    D[i][i]= np.sum(W[i] , axis=1)\n",
        "\n",
        "  D_inv = np.sqrt(matrix_power(D,-1))\n",
        "  S = D_inv @ W @ D_inv\n",
        "  LN = np.eye(len(S)) - S\n",
        "  V0 = np.zeros(len(D))\n",
        "\n",
        "  for i in range (len (D)):\n",
        "    V0[i]= np.sqrt(D[i][i])\n",
        "\n",
        "  V0_norm = np.linalg.norm(V0, 2)\n",
        "  V0= V0/V0_norm\n",
        "  v=np.linalg.eigvals(LN)\n",
        "  v=sorted(v)\n",
        "  lambda_1 = v[1]\n",
        "  gamma_t= 0.9*lambda_1\n",
        "  # print(gamma_t)\n",
        "  \n",
        "  f = np.linalg.inv((LN/gamma_t)-np.eye(len(LN)))@(y_train_prime - (np.dot(V0,np.dot(V0.transpose(), y_train_prime))))\n",
        "  pred= np.sign(f)\n",
        "  pred = np.squeeze(np.asarray(pred))\n",
        "  # print (pred)\n",
        "\n",
        "  return pred, gamma_t"
      ]
    },
    {
      "cell_type": "code",
      "execution_count": 5,
      "metadata": {
        "id": "El5brn-QUc17"
      },
      "outputs": [],
      "source": [
        "def accuracy (y_pred , y_orig):\n",
        "  count=0\n",
        "  for i in range (len(y_pred)):\n",
        "    if y_pred[i]==y_orig[i]:\n",
        "      count+=1\n",
        "  result = count/len(y_pred) * 100\n",
        "  return result"
      ]
    },
    {
      "cell_type": "code",
      "execution_count": 6,
      "metadata": {
        "colab": {
          "base_uri": "https://localhost:8080/"
        },
        "id": "gn6FbkwKXCpN",
        "outputId": "52294ed8-3d46-4789-bf30-1eaa5035f34f"
      },
      "outputs": [
        {
          "name": "stdout",
          "output_type": "stream",
          "text": [
            "99.85294117647058\n"
          ]
        }
      ],
      "source": [
        "a=nx.karate_club_graph()\n",
        "\n",
        "W = nx.to_numpy_matrix(a)\n",
        "a=nx.karate_club_graph()\n",
        "W = nx.to_numpy_matrix(a)\n",
        "D= np.zeros ((len(W),len(W)))\n",
        "for i in range (len(W)):\n",
        "  D[i][i]= np.sum(W[i] , axis=1)\n",
        "y = [1 , 1 , 1 , 1 , 1 , 1, 1,1 , -1 , -1 , 1 , 1 , 1 , 1, -1, -1, 1, 1 ,-1 , 1, -1 , 1 , -1, -1, -1, -1 , -1, -1 , -1 , -1, -1 , -1 , -1 , -1]\n",
        "acc = np.zeros (20)\n",
        "for i in range (20):\n",
        "  ra=random.sample(range(0, 33), 17)\n",
        "  y_prime=y.copy()\n",
        "  for j in ra:\n",
        "    y_prime[j]=0\n",
        "  pred , gamma_t = RobustGC (W, y_prime , 0.1)\n",
        "  acc[i] = accuracy (pred , y)\n",
        "print (np.mean(acc))"
      ]
    },
    {
      "cell_type": "code",
      "execution_count": 7,
      "metadata": {
        "colab": {
          "base_uri": "https://localhost:8080/"
        },
        "id": "rhAY3leSZdvK",
        "outputId": "39d198de-9c86-4b96-92bf-2fadc74b0a4b"
      },
      "outputs": [
        {
          "name": "stdout",
          "output_type": "stream",
          "text": [
            "98.38235294117646\n"
          ]
        }
      ],
      "source": [
        "a=nx.karate_club_graph()\n",
        "W = nx.to_numpy_matrix(a)\n",
        "a=nx.karate_club_graph()\n",
        "W = nx.to_numpy_matrix(a)\n",
        "D= np.zeros ((len(W),len(W)))\n",
        "for i in range (len(W)):\n",
        "  D[i][i]= np.sum(W[i] , axis=1)\n",
        "y = [1 , 1 , 1 , 1 , 1 , 1, 1,1 , -1 , -1 , 1 , 1 , 1 , 1, -1, -1, 1, 1 ,-1 , 1, -1 , 1 , -1, -1, -1, -1 , -1, -1 , -1 , -1, -1 , -1 , -1 , -1]\n",
        "acc = np.zeros (20)\n",
        "for i in range (20):\n",
        "  ra=random.sample(range(0, 33), 17)\n",
        "  y_prime=y.copy()\n",
        "  for j in ra:\n",
        "    y_prime[j]=0\n",
        "  pred , gamma_t = PF_RobustGC (W, y_prime)\n",
        "  acc[i] = accuracy (pred , y)\n",
        "print (np.mean(acc))"
      ]
    }
  ],
  "metadata": {
    "colab": {
      "name": "Karate_test.ipynb",
      "provenance": []
    },
    "kernelspec": {
      "display_name": "Python 3",
      "name": "python3"
    },
    "language_info": {
      "name": "python"
    }
  },
  "nbformat": 4,
  "nbformat_minor": 0
}
